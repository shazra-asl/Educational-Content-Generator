{
 "cells": [
  {
   "cell_type": "code",
   "execution_count": 2,
   "id": "6bf7b7f5",
   "metadata": {},
   "outputs": [],
   "source": [
    "import os\n",
    "from dotenv import load_dotenv\n",
    "\n",
    "# Load environment variables from .env file\n",
    "load_dotenv()\n",
    "\n",
    "# Access the API key\n",
    "api_key = os.getenv('GOOGLE_API_KEY')\n",
    "\n",
    "# print(api_key)  # Just to verify it's working, remove this in production\n"
   ]
  },
  {
   "cell_type": "markdown",
   "id": "fd03384c",
   "metadata": {},
   "source": [
    "# Educational Content Generator with Fact Verification Using Generative AI\n",
    "\n",
    "## Introduction\n",
    "This project addresses a critical challenge in education: creating accurate, grade-appropriate \n",
    "educational content with verified facts. Traditional content creation is time-consuming and may \n",
    "contain outdated or inaccurate information. Our solution leverages multiple generative AI \n",
    "capabilities to automate this process while ensuring accuracy and educational value.\n",
    "\n",
    "### Problem Statement\n",
    "Teachers and educational content creators face three main challenges:\n",
    "1. Time-consuming content creation process\n",
    "2. Difficulty in verifying factual accuracy\n",
    "3. Ensuring grade-level appropriateness\n",
    "\n",
    "### Solution Overview\n",
    "Our system combines several generative AI capabilities to create an automated, reliable \n",
    "educational content generation system:\n",
    "- Google Search grounding for fact verification\n",
    "- Structured output for consistent content formatting\n",
    "- Grade-level appropriate content generation\n",
    "- Automated content quality assessment"
   ]
  },
  {
   "cell_type": "code",
   "execution_count": 3,
   "id": "f31aceea",
   "metadata": {},
   "outputs": [],
   "source": [
    "# Import required libraries\n",
    "from google import genai\n",
    "from google.genai import types\n",
    "from IPython.display import Markdown, display\n",
    "from typing import TypedDict, List\n",
    "from datetime import datetime\n",
    "# from kaggle_secrets import UserSecretsClient\n",
    "\n",
    "# # Initialize Gemini client with API key\n",
    "# client = genai.Client(api_key=UserSecretsClient().get_secret(\"GOOGLE_API_KEY\"))\n",
    "\n",
    "# Initialize the Gemini client\n",
    "client = genai.Client(api_key=api_key)"
   ]
  },
  {
   "cell_type": "markdown",
   "id": "472501e7",
   "metadata": {},
   "source": [
    "## Define Core Data Structures\n",
    "We create type-safe structures to handle our educational content and analysis results."
   ]
  },
  {
   "cell_type": "code",
   "execution_count": 4,
   "id": "4900747a",
   "metadata": {},
   "outputs": [],
   "source": [
    "class TestResults(TypedDict):\n",
    "    \"\"\"Structure to hold comprehensive test results\"\"\"\n",
    "    timestamp: str\n",
    "    content_metrics: dict\n",
    "    fact_verification: dict\n",
    "    grade_level_analysis: dict\n",
    "    execution_time: float\n"
   ]
  },
  {
   "cell_type": "markdown",
   "id": "84ee555e",
   "metadata": {},
   "source": [
    "## Content Generation and Analysis Implementation\n",
    "The following section implements our core functionality for generating and analyzing educational content."
   ]
  },
  {
   "cell_type": "code",
   "execution_count": 5,
   "id": "ed5fd314",
   "metadata": {},
   "outputs": [],
   "source": [
    "def execute_topic_test(topic: str):\n",
    "    \"\"\"\n",
    "    Execute the main test with comprehensive logging and analysis for a user-specified topic.\n",
    "    This function demonstrates the integration of multiple Gen AI capabilities:\n",
    "    1. Content generation with fact verification\n",
    "    2. Source grounding\n",
    "    3. Educational content analysis\n",
    "\n",
    "    Parameters:\n",
    "        topic (str): The educational subject to generate content about.\n",
    "    \"\"\"\n",
    "    \n",
    "    start_time = datetime.now()\n",
    "    display(Markdown(f\"# Starting {topic.title()} Education Content Test\"))\n",
    "    display(Markdown(f\"Test started at: {start_time.strftime('%Y-%m-%d %H:%M:%S')}\"))\n",
    "\n",
    "    try:\n",
    "        # 1. Initialize Model Configuration\n",
    "        config = types.GenerateContentConfig(\n",
    "            tools=[types.Tool(google_search=types.GoogleSearch())],\n",
    "            temperature=0.2,  # Lower temperature for more factual content\n",
    "            top_p=0.8,\n",
    "            top_k=40\n",
    "        )\n",
    "\n",
    "        # 2. Generate Content\n",
    "        display(Markdown(f\"## Generating Educational Content for {topic.title()}...\"))\n",
    "        prompt = f\"\"\"Create educational content about {topic} for 7th Grade students.\n",
    "        Include:\n",
    "        - Key scientific or conceptual ideas pertinent to the topic.\n",
    "        - Real-world examples and impacts.\n",
    "        - Recent data and statistics.\n",
    "        - Age-appropriate explanations.\n",
    "        - Actionable solutions.\n",
    "\n",
    "        Ensure all facts are verified with reliable sources.\"\"\"\n",
    "        \n",
    "        response = client.models.generate_content(\n",
    "            model=\"gemini-2.0-flash\",\n",
    "            contents=[prompt],\n",
    "            config=config\n",
    "        )\n",
    "\n",
    "        # Document the generated content and its analysis\n",
    "        display(Markdown(\"## Generated Content\"))\n",
    "        display(Markdown(response.text))\n",
    "\n",
    "        # Analyze sources and grounding\n",
    "        display(Markdown(\"## Source Analysis\"))\n",
    "        if hasattr(response, 'grounding_metadata') and response.grounding_metadata:\n",
    "            chunks = response.grounding_metadata.grounding_chunks\n",
    "            display(Markdown(\"### Verified Sources:\"))\n",
    "            for i, chunk in enumerate(chunks, 1):\n",
    "                display(Markdown(f\"\"\"\n",
    "                **Source {i}:**\n",
    "                - **Title:** {chunk.web.title}\n",
    "                - **URL:** {chunk.web.uri}\n",
    "                - **Referenced Content:** \"{chunk.text}\"\n",
    "                \"\"\"))\n",
    "        \n",
    "        # Calculate comprehensive metrics\n",
    "        results = TestResults(\n",
    "            timestamp=start_time.strftime('%Y-%m-%d %H:%M:%S'),\n",
    "            content_metrics={\n",
    "                \"total_length\": len(response.text),\n",
    "                \"num_paragraphs\": len(response.text.split('\\n\\n')),\n",
    "                \"reading_level_score\": calculate_reading_level(response.text)\n",
    "            },\n",
    "            fact_verification={\n",
    "                \"verified_sources\": len(response.grounding_metadata.grounding_chunks) if hasattr(response, 'grounding_metadata') and response.grounding_metadata else 0,\n",
    "                \"fact_density\": calculate_fact_density(response.text)\n",
    "            },\n",
    "            grade_level_analysis=analyze_grade_appropriateness(response.text),\n",
    "            execution_time=(datetime.now() - start_time).total_seconds()\n",
    "        )\n",
    "\n",
    "        # Display analysis results\n",
    "        display_test_results(results)\n",
    "\n",
    "    except Exception as e:\n",
    "        display(Markdown(f\"## Error During Test Execution\\n```python\\n{str(e)}\\n```\"))\n",
    "        raise\n"
   ]
  },
  {
   "cell_type": "markdown",
   "id": "91c3d19b",
   "metadata": {},
   "source": [
    "## Analysis Helper Functions\n",
    "These functions implement our educational content analysis capabilities."
   ]
  },
  {
   "cell_type": "code",
   "execution_count": 6,
   "id": "283acd75",
   "metadata": {},
   "outputs": [],
   "source": [
    "def calculate_reading_level(text: str) -> float:\n",
    "    \"\"\"\n",
    "    Calculate approximate reading level score using a simplified formula\n",
    "    Based on average sentence length and complex word frequency.\n",
    "    \"\"\"\n",
    "    words = text.split()\n",
    "    sentences = text.split('.')\n",
    "    avg_words_per_sentence = len(words) / len(sentences) if sentences else 0\n",
    "    complex_words = len([w for w in words if len(w) > 8])\n",
    "    return (avg_words_per_sentence * 0.39) + (complex_words / len(words) * 100 * 0.185) if words else 0\n",
    "\n",
    "def calculate_fact_density(text: str) -> float:\n",
    "    \"\"\"\n",
    "    Calculate the density of factual statements in the text.\n",
    "    Uses linguistic markers to identify potential fact statements.\n",
    "    \"\"\"\n",
    "    fact_indicators = ['is', 'are', 'was', 'were', 'according to', 'research shows']\n",
    "    words = text.split()\n",
    "    fact_indicators_count = sum(1 for word in words if any(indicator in word.lower() for indicator in fact_indicators))\n",
    "    return fact_indicators_count / len(words) if words else 0\n",
    "\n",
    "def analyze_grade_appropriateness(text: str) -> dict:\n",
    "    \"\"\"\n",
    "    Analyze if content is appropriate for 7th grade level.\n",
    "    Returns metrics for sentence complexity and vocabulary.\n",
    "    \"\"\"\n",
    "    words = text.split()\n",
    "    sentences = text.split('.')\n",
    "    return {\n",
    "        \"avg_words_per_sentence\": len(words) / len(sentences) if sentences else 0,\n",
    "        \"complex_word_ratio\": len([w for w in words if len(w) > 8]) / len(words) if words else 0,\n",
    "        \"technical_terms\": identify_technical_terms(text)\n",
    "    }\n",
    "\n",
    "def identify_technical_terms(text: str) -> list:\n",
    "    \"\"\"\n",
    "    Identify scientific/technical terms in the content.\n",
    "    Helps assess vocabulary complexity.\n",
    "    \"\"\"\n",
    "    scientific_indicators = ['carbon', 'dioxide', 'greenhouse', 'atmosphere', 'temperature']\n",
    "    return [word for word in text.lower().split() if any(term in word for term in scientific_indicators)]\n"
   ]
  },
  {
   "cell_type": "markdown",
   "id": "0f01ea46",
   "metadata": {},
   "source": [
    "## Results Display Function\n",
    "This function provides a comprehensive view of the analysis results."
   ]
  },
  {
   "cell_type": "code",
   "execution_count": 7,
   "id": "d5c177f5",
   "metadata": {},
   "outputs": [],
   "source": [
    "def display_test_results(results: TestResults):\n",
    "    \"\"\"Display comprehensive test results with detailed metrics\"\"\"\n",
    "    display(Markdown(f\"\"\"\n",
    "    # Test Results Summary\n",
    "    \n",
    "    ## Execution Metrics\n",
    "    - **Test Duration:** {results['execution_time']:.2f} seconds\n",
    "    - **Timestamp:** {results['timestamp']}\n",
    "    \n",
    "    ## Content Analysis\n",
    "    - **Total Length:** {results['content_metrics']['total_length']} characters\n",
    "    - **Number of Paragraphs:** {results['content_metrics']['num_paragraphs']}\n",
    "    - **Reading Level Score:** {results['content_metrics']['reading_level_score']:.2f}\n",
    "    \n",
    "    ## Fact Verification\n",
    "    - **Verified Sources:** {results['fact_verification']['verified_sources']}\n",
    "    - **Fact Density:** {results['fact_verification']['fact_density']:.2%}\n",
    "    \n",
    "    ## Grade Level Appropriateness\n",
    "    - **Average Words per Sentence:** {results['grade_level_analysis']['avg_words_per_sentence']:.1f}\n",
    "    - **Complex Word Ratio:** {results['grade_level_analysis']['complex_word_ratio']:.2%}\n",
    "    - **Technical Terms Found:** {len(results['grade_level_analysis']['technical_terms'])}\n",
    "    \"\"\"))\n"
   ]
  },
  {
   "cell_type": "markdown",
   "id": "a6933d33",
   "metadata": {},
   "source": [
    "## Execution\n",
    "Let's run our educational content generator and analysis system for a user-specified topic."
   ]
  },
  {
   "cell_type": "code",
   "execution_count": null,
   "id": "90e4dd8d",
   "metadata": {},
   "outputs": [],
   "source": [
    "# Set the topic for educational content generation\n",
    "try:\n",
    "    user_topic = \"Climate Change\"  # Replace this with any topic you desire\n",
    "    execute_topic_test(user_topic)\n",
    "except Exception as e:\n",
    "    display(Markdown(f\"# Test Failed\\nError: {str(e)}\"))\n",
    "finally:\n",
    "    display(Markdown(\"# Test Execution Completed\"))\n"
   ]
  },
  {
   "cell_type": "code",
   "execution_count": 13,
   "id": "3e8b277e",
   "metadata": {},
   "outputs": [
    {
     "data": {
      "text/markdown": [
       "# Starting Climate Change Education Content Test"
      ],
      "text/plain": [
       "<IPython.core.display.Markdown object>"
      ]
     },
     "metadata": {},
     "output_type": "display_data"
    },
    {
     "data": {
      "text/markdown": [
       "Test started at: 2025-04-15 13:32:54"
      ],
      "text/plain": [
       "<IPython.core.display.Markdown object>"
      ]
     },
     "metadata": {},
     "output_type": "display_data"
    },
    {
     "data": {
      "text/markdown": [
       "## Generating Educational Content for Climate Change..."
      ],
      "text/plain": [
       "<IPython.core.display.Markdown object>"
      ]
     },
     "metadata": {},
     "output_type": "display_data"
    },
    {
     "data": {
      "text/markdown": [
       "## Generated Content"
      ],
      "text/plain": [
       "<IPython.core.display.Markdown object>"
      ]
     },
     "metadata": {},
     "output_type": "display_data"
    },
    {
     "data": {
      "text/markdown": [
       "Okay, here's some educational content about climate change suitable for 7th-grade students, incorporating key concepts, real-world examples, recent data, and actionable solutions.\n",
       "\n",
       "**Climate Change: Understanding Our Warming World**\n",
       "\n",
       "**What is Climate Change?**\n",
       "\n",
       "Imagine the Earth is like a giant greenhouse. The sun's energy comes in, warms the Earth, and some of that heat tries to escape back into space. Certain gases in the atmosphere, called greenhouse gases, trap some of that heat, keeping our planet warm enough to live on. This is called the \"greenhouse effect,\" and it's natural and necessary.\n",
       "\n",
       "Climate change is happening because humans are adding extra greenhouse gases to the atmosphere, mainly by burning fossil fuels (coal, oil, and natural gas) for energy. This is making the greenhouse effect stronger, trapping more heat, and causing the Earth's temperature to rise. Think of it like adding extra blankets to your bed – you get too hot!\n",
       "\n",
       "**Key Scientific Ideas**\n",
       "\n",
       "*   **The Greenhouse Effect:**  The natural process where certain gases in the atmosphere trap heat, warming the Earth.\n",
       "*   **Greenhouse Gases:** Gases like carbon dioxide (CO2), methane (CH4), and nitrous oxide (N2O) that trap heat in the atmosphere.\n",
       "*   **Fossil Fuels:**  Fuels like coal, oil, and natural gas that are formed from the remains of ancient plants and animals. Burning them releases greenhouse gases.\n",
       "*   **Global Warming:** The long-term increase in Earth's average temperature.\n",
       "*   **Climate Change:**  Long-term shifts in temperatures and weather patterns. Note that while global warming refers specifically to rising temperatures, climate change encompasses a broader range of changes, including shifts in precipitation patterns, sea level rise, and more frequent extreme weather events.\n",
       "\n",
       "**Real-World Examples and Impacts**\n",
       "\n",
       "*   **Melting Ice:** Glaciers and ice sheets are melting at an alarming rate. This contributes to rising sea levels, which threatens coastal communities and ecosystems. For example, the Arctic sea ice is shrinking, impacting polar bears and other Arctic wildlife.\n",
       "*   **Extreme Weather:** We're seeing more frequent and intense heatwaves, droughts, floods, and storms. These events can damage homes, disrupt agriculture, and put people's lives at risk. For example, stronger hurricanes are becoming more common due to warmer ocean temperatures.\n",
       "*   **Changes in Ecosystems:**  Climate change is affecting plants and animals all over the world. Some species are moving to new areas to find suitable habitats, while others are struggling to survive. Coral reefs are particularly vulnerable to warming ocean temperatures and acidification.\n",
       "*   **Sea Level Rise:** As the planet warms, the ocean water expands, and melting ice adds more water to the ocean. This causes sea levels to rise, threatening coastal cities and communities. Places like Miami, Florida, and Bangladesh are particularly vulnerable.\n",
       "\n",
       "**Recent Data and Statistics**\n",
       "\n",
       "*   **Global Temperature Increase:** The Earth's average temperature has risen by about 1 degree Celsius (1.8 degrees Fahrenheit) since the late 19th century.\n",
       "*   **CO2 Levels:**  The concentration of carbon dioxide in the atmosphere is higher than it has been in at least 800,000 years. In 2023, the global average CO2 concentration was around 419 parts per million (ppm).\n",
       "*   **Sea Level Rise:**  Global average sea level has risen by about 8-9 inches (21-24 centimeters) since 1880, with about a third of that rise occurring in the last 25 years.\n",
       "*   **Extreme Weather Events:** The number of extreme weather events, such as heatwaves, droughts, and floods, has been increasing in recent decades.\n",
       "\n",
       "**Age-Appropriate Explanations**\n",
       "\n",
       "*   Instead of saying \"anthropogenic climate change,\" say \"climate change caused by human activities.\"\n",
       "*   Use analogies that students can relate to, such as the \"blanket\" analogy for the greenhouse effect.\n",
       "*   Break down complex concepts into smaller, more manageable pieces.\n",
       "*   Use visuals, such as graphs and charts, to illustrate data and trends.\n",
       "\n",
       "**Actionable Solutions**\n",
       "\n",
       "The good news is that we can do something about climate change! Here are some actions we can take:\n",
       "\n",
       "*   **Reduce, Reuse, Recycle:**  Reduce the amount of waste we create, reuse items whenever possible, and recycle materials like paper, plastic, and glass.\n",
       "*   **Save Energy:** Turn off lights when you leave a room, unplug electronics when you're not using them, and take shorter showers.\n",
       "*   **Eat Less Meat:**  Raising livestock for meat production contributes to greenhouse gas emissions. Eating less meat can help reduce your carbon footprint.\n",
       "*   **Use Sustainable Transportation:** Walk, bike, or take public transportation whenever possible. If you need to drive, consider using a fuel-efficient or electric vehicle.\n",
       "*   **Plant Trees:** Trees absorb carbon dioxide from the atmosphere. Planting trees can help reduce greenhouse gas emissions.\n",
       "*   **Advocate for Change:** Talk to your family, friends, and community leaders about climate change. Support policies and initiatives that promote clean energy and reduce greenhouse gas emissions.\n",
       "\n",
       "**Verified Sources:**\n",
       "\n",
       "*   **NASA Climate Change:** [https://climate.nasa.gov/](https://climate.nasa.gov/)\n",
       "*   **EPA Climate Change:** [https://www.epa.gov/climatechange](https://www.epa.gov/climatechange)\n",
       "*   **Intergovernmental Panel on Climate Change (IPCC):** [https://www.ipcc.ch/](https://www.ipcc.ch/)\n",
       "\n",
       "I hope this is helpful for teaching 7th graders about climate change! Let me know if you have any other questions.\n"
      ],
      "text/plain": [
       "<IPython.core.display.Markdown object>"
      ]
     },
     "metadata": {},
     "output_type": "display_data"
    },
    {
     "data": {
      "text/markdown": [
       "## Source Analysis"
      ],
      "text/plain": [
       "<IPython.core.display.Markdown object>"
      ]
     },
     "metadata": {},
     "output_type": "display_data"
    },
    {
     "data": {
      "text/markdown": [
       "\n",
       "    # Test Results Summary\n",
       "\n",
       "    ## Execution Metrics\n",
       "    - **Test Duration:** 7.60 seconds\n",
       "    - **Timestamp:** 2025-04-15 13:32:54\n",
       "\n",
       "    ## Content Analysis\n",
       "    - **Total Length:** 5553 characters\n",
       "    - **Number of Paragraphs:** 19\n",
       "    - **Reading Level Score:** 8.43\n",
       "\n",
       "    ## Fact Verification\n",
       "    - **Verified Sources:** 0\n",
       "    - **Fact Density:** 5.57%\n",
       "\n",
       "    ## Grade Level Appropriateness\n",
       "    - **Average Words per Sentence:** 13.5\n",
       "    - **Complex Word Ratio:** 17.20%\n",
       "    - **Technical Terms Found:** 33\n",
       "    "
      ],
      "text/plain": [
       "<IPython.core.display.Markdown object>"
      ]
     },
     "metadata": {},
     "output_type": "display_data"
    },
    {
     "data": {
      "text/markdown": [
       "# Test Execution Completed"
      ],
      "text/plain": [
       "<IPython.core.display.Markdown object>"
      ]
     },
     "metadata": {},
     "output_type": "display_data"
    }
   ],
   "source": [
    "try:\n",
    "    user_topic = input(\"Enter the topic for educational content generation: \").strip()\n",
    "    if not user_topic:\n",
    "        user_topic = \"Climate Change\"  # default in case of empty input\n",
    "    execute_topic_test(user_topic)\n",
    "except Exception as e:\n",
    "    display(Markdown(f\"# Test Failed\\nError: {str(e)}\"))\n",
    "finally:\n",
    "    display(Markdown(\"# Test Execution Completed\"))\n"
   ]
  },
  {
   "cell_type": "markdown",
   "id": "34c5a7b3",
   "metadata": {},
   "source": [
    "## Conclusion\n",
    "\n",
    "This implementation demonstrates the effective integration of multiple generative AI capabilities:\n",
    "1. Google Search grounding for fact verification\n",
    "2. Structured output generation for educational content\n",
    "3. Automated content analysis and evaluation\n",
    "\n",
    "### Key Achievements:\n",
    "- Automated generation of grade-appropriate educational content on any given topic\n",
    "- Real-time fact verification with source citations\n",
    "- Comprehensive content quality analysis\n",
    "\n",
    "### Future Improvements:\n",
    "1. Enhanced multi-subject support\n",
    "2. Interactive, user-based content customization\n",
    "3. Customizable curriculum alignment\n",
    "4. Expanded evaluation metrics\n",
    "\n",
    "### References:\n",
    "1. Gemini API Documentation\n",
    "2. Educational Content Standards\n",
    "3. Reading Level Assessment Methodologies\n",
    "\n",
    "This notebook successfully demonstrates the potential of generative AI in educational content creation,\n",
    "providing a foundation for further advancements in automated educational content generation."
   ]
  }
 ],
 "metadata": {
  "kernelspec": {
   "display_name": "capstone",
   "language": "python",
   "name": "capstone"
  },
  "language_info": {
   "codemirror_mode": {
    "name": "ipython",
    "version": 3
   },
   "file_extension": ".py",
   "mimetype": "text/x-python",
   "name": "python",
   "nbconvert_exporter": "python",
   "pygments_lexer": "ipython3",
   "version": "3.11.9"
  }
 },
 "nbformat": 4,
 "nbformat_minor": 5
}
